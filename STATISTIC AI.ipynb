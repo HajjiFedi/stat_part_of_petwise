{
 "cells": [
  {
   "cell_type": "code",
   "execution_count": null,
   "id": "08aec74f",
   "metadata": {},
   "outputs": [],
   "source": [
    "#library imports\n",
    "import pandas as pd\n",
    "import numpy as np\n",
    "import matplotlib.pyplot as plt\n",
    "import seaborn as sns  \n",
    "\n",
    "from sklearn.model_selection import train_test_split, GridSearchCV\n",
    "from sklearn.ensemble import RandomForestRegressor\n",
    "from sklearn.metrics import mean_squared_error, r2_score\n",
    "from sklearn.linear_model import LinearRegression   \n",
    "import joblib"
   ]
  },
  {
   "cell_type": "code",
   "execution_count": null,
   "id": "18b52157",
   "metadata": {},
   "outputs": [],
   "source": [
    "#load the dataset\n",
    "#use the path to your CSV file (in this case 100_pet_sales.csv)\n",
    "csv_path = r\"C:\\Users\\fedi\\Documents\\ESEN-HACK\\STAT AI\\100_pet_sales.csv\"\n",
    "df = pd.read_csv(csv_path, parse_dates=['order_date'])"
   ]
  },
  {
   "cell_type": "code",
   "execution_count": 4,
   "id": "deb298fe",
   "metadata": {},
   "outputs": [
    {
     "name": "stdout",
     "output_type": "stream",
     "text": [
      " First 5 rows of raw data:\n",
      "  product_name animal_type   category  price  sales          order_date  \\\n",
      "0      Dog Bed         dog  accessory   50.0    142 2024-11-08 20:38:57   \n",
      "1      Dog Toy         dog        toy   15.0    102 2024-02-24 11:29:37   \n",
      "2  Cat Shampoo         cat     health    9.0     98 2024-11-27 09:27:59   \n",
      "3      Cat Toy         cat        toy   12.0    180 2024-05-19 06:20:08   \n",
      "4   Cat Collar         cat  accessory   12.0    179 2024-04-28 14:59:06   \n",
      "\n",
      "   month  weekday  is_discounted  discount_pct  avg_review_score  num_reviews  \\\n",
      "0     11        4          False           0.0              3.12           87   \n",
      "1      2        5          False           0.0              4.98          160   \n",
      "2     11        2          False           0.0              3.91          174   \n",
      "3      5        6          False           0.0              4.90           59   \n",
      "4      4        6          False           0.0              4.67           34   \n",
      "\n",
      "   in_stock  stock_left  ad_spend  click_through_rate  holiday_season  \n",
      "0      True          51     33.37               0.014            True  \n",
      "1      True          21     30.42               0.052           False  \n",
      "2      True          88     61.84               0.038            True  \n",
      "3      True          63     56.33               0.039           False  \n",
      "4      True          52     90.93               0.026           False   \n",
      "\n"
     ]
    }
   ],
   "source": [
    "# Quick peek at the first few rows\n",
    "print(\" First 5 rows of raw data:\")\n",
    "print(df.head(), \"\\n\")"
   ]
  },
  {
   "cell_type": "code",
   "execution_count": 5,
   "id": "afe43ab1",
   "metadata": {},
   "outputs": [
    {
     "name": "stderr",
     "output_type": "stream",
     "text": [
      "C:\\Users\\fedi\\AppData\\Local\\Temp\\ipykernel_22896\\2459044603.py:3: FutureWarning: A value is trying to be set on a copy of a DataFrame or Series through chained assignment using an inplace method.\n",
      "The behavior will change in pandas 3.0. This inplace method will never work because the intermediate object on which we are setting values always behaves as a copy.\n",
      "\n",
      "For example, when doing 'df[col].method(value, inplace=True)', try using 'df.method({col: value}, inplace=True)' or df[col] = df[col].method(value) instead, to perform the operation inplace on the original object.\n",
      "\n",
      "\n",
      "  df['sales'].fillna(df['sales'].mean(), inplace=True)\n"
     ]
    }
   ],
   "source": [
    "# Ensure 'sales' is numeric; if not, coerce to NaN and fill with the column mean\n",
    "df['sales'] = pd.to_numeric(df['sales'], errors='coerce')\n",
    "df['sales'].fillna(df['sales'].mean(), inplace=True)"
   ]
  },
  {
   "cell_type": "code",
   "execution_count": 6,
   "id": "6559596e",
   "metadata": {},
   "outputs": [
    {
     "name": "stderr",
     "output_type": "stream",
     "text": [
      "C:\\Users\\fedi\\AppData\\Local\\Temp\\ipykernel_22896\\2815247116.py:3: FutureWarning: A value is trying to be set on a copy of a DataFrame or Series through chained assignment using an inplace method.\n",
      "The behavior will change in pandas 3.0. This inplace method will never work because the intermediate object on which we are setting values always behaves as a copy.\n",
      "\n",
      "For example, when doing 'df[col].method(value, inplace=True)', try using 'df.method({col: value}, inplace=True)' or df[col] = df[col].method(value) instead, to perform the operation inplace on the original object.\n",
      "\n",
      "\n",
      "  df['price'].fillna(df['price'].median(), inplace=True)\n"
     ]
    }
   ],
   "source": [
    "# Ensure 'price' is numeric; if not, coerce to NaN and fill with the column median\n",
    "df['price'] = pd.to_numeric(df['price'], errors='coerce')\n",
    "df['price'].fillna(df['price'].median(), inplace=True)\n"
   ]
  },
  {
   "cell_type": "code",
   "execution_count": 7,
   "id": "e6864016",
   "metadata": {},
   "outputs": [],
   "source": [
    "# Convert boolean columns to integers (0 or 1)\n",
    "df['in_stock'] = df['in_stock'].astype(int)\n",
    "df['holiday_season'] = df['holiday_season'].astype(int)\n",
    "df['is_discounted'] = df['is_discounted'].astype(int)"
   ]
  },
  {
   "cell_type": "code",
   "execution_count": 8,
   "id": "c573c56a",
   "metadata": {},
   "outputs": [],
   "source": [
    "# Convert other numeric-ish columns to numeric dtype, filling any missing values\n",
    "df['discount_pct'] = pd.to_numeric(df['discount_pct'], errors='coerce').fillna(0.0)\n",
    "df['avg_review_score'] = pd.to_numeric(df['avg_review_score'], errors='coerce').fillna(0.0)\n",
    "df['num_reviews'] = pd.to_numeric(df['num_reviews'], errors='coerce').fillna(0)\n",
    "df['stock_left'] = pd.to_numeric(df['stock_left'], errors='coerce').fillna(0)\n",
    "df['ad_spend'] = pd.to_numeric(df['ad_spend'], errors='coerce').fillna(0.0)\n",
    "df['click_through_rate'] = pd.to_numeric(df['click_through_rate'], errors='coerce').fillna(0.0)"
   ]
  },
  {
   "cell_type": "code",
   "execution_count": 9,
   "id": "3695dc00",
   "metadata": {},
   "outputs": [
    {
     "name": "stdout",
     "output_type": "stream",
     "text": [
      ">>> Data types after cleaning:\n",
      "product_name                  object\n",
      "animal_type                   object\n",
      "category                      object\n",
      "price                        float64\n",
      "sales                          int64\n",
      "order_date            datetime64[ns]\n",
      "month                          int64\n",
      "weekday                        int64\n",
      "is_discounted                  int32\n",
      "discount_pct                 float64\n",
      "avg_review_score             float64\n",
      "num_reviews                    int64\n",
      "in_stock                       int32\n",
      "stock_left                     int64\n",
      "ad_spend                     float64\n",
      "click_through_rate           float64\n",
      "holiday_season                 int32\n",
      "dtype: object \n",
      "\n"
     ]
    }
   ],
   "source": [
    "#data after cleaning\n",
    "print(\">>> Data types after cleaning:\")\n",
    "print(df.dtypes, \"\\n\")"
   ]
  },
  {
   "cell_type": "code",
   "execution_count": 10,
   "id": "2a2b7372",
   "metadata": {},
   "outputs": [],
   "source": [
    "# Extract \"month\" and \"weekday\" from the 'order_date' (we already parsed it above)\n",
    "df['month'] = df['order_date'].dt.month\n",
    "df['weekday'] = df['order_date'].dt.weekday"
   ]
  },
  {
   "cell_type": "code",
   "execution_count": 11,
   "id": "10e2244f",
   "metadata": {},
   "outputs": [],
   "source": [
    "# One‐Hot Encode categorical columns: 'animal_type' & 'category'\n",
    "#     After this, we get columns like 'animal_type_dog' (1 if dog, 0 if cat),\n",
    "#     plus 'category_Bed', 'category_Collar', etc.\n",
    "dummies = pd.get_dummies(df[['animal_type', 'category']], drop_first=True)\n",
    "df = pd.concat([df, dummies], axis=1)"
   ]
  },
  {
   "cell_type": "code",
   "execution_count": 12,
   "id": "af82a6a2",
   "metadata": {},
   "outputs": [
    {
     "data": {
      "image/png": "[encoded data removed]",
      "text/plain": [
       "<Figure size 800x500 with 1 Axes>"
      ]
     },
     "metadata": {},
     "output_type": "display_data"
    },
    {
     "name": "stdout",
     "output_type": "stream",
     "text": [
      "Saved plot → hist_sales.png\n"
     ]
    }
   ],
   "source": [
    "# 4.1 Histogram of 'sales' \n",
    "plt.figure(figsize=(8, 5))\n",
    "sns.histplot(df['sales'], bins=30, kde=True)\n",
    "plt.title(\"Distribution of Sales\")\n",
    "plt.xlabel(\"Sales (units)\")\n",
    "plt.ylabel(\"Count\")\n",
    "plt.tight_layout()\n",
    "plt.savefig(\"hist_sales.png\")\n",
    "plt.show()\n",
    "plt.close()\n",
    "print(\"Saved plot → hist_sales.png\")\n"
   ]
  },
  {
   "cell_type": "code",
   "execution_count": 14,
   "id": "82a61d3b",
   "metadata": {},
   "outputs": [
    {
     "data": {
      "image/png": "[encoded data removed]",
      "text/plain": [
       "<Figure size 600x400 with 1 Axes>"
      ]
     },
     "metadata": {},
     "output_type": "display_data"
    },
    {
     "name": "stdout",
     "output_type": "stream",
     "text": [
      "Saved plot → boxplot_price_by_animal.png\n"
     ]
    }
   ],
   "source": [
    "# 4.2 Boxplot of 'price' by 'animal_type' to compare cat vs. dog pricing\n",
    "plt.figure(figsize=(6, 4))\n",
    "sns.boxplot(x='animal_type', y='price', data=df)\n",
    "plt.title(\"Price Distribution by Animal Type\")\n",
    "plt.xlabel(\"Animal Type\")\n",
    "plt.ylabel(\"Price (USD)\")\n",
    "plt.tight_layout()\n",
    "plt.savefig(\"boxplot_price_by_animal.png\")\n",
    "plt.show()\n",
    "plt.close()\n",
    "print(\"Saved plot → boxplot_price_by_animal.png\")"
   ]
  },
  {
   "cell_type": "code",
   "execution_count": 15,
   "id": "be6a5436",
   "metadata": {},
   "outputs": [],
   "source": [
    "# select numeric and dummy columns for features\n",
    "numeric_cols = [\n",
    "    'price', 'month', 'weekday', 'is_discounted', 'discount_pct',\n",
    "    'avg_review_score', 'num_reviews', 'in_stock', 'stock_left',\n",
    "    'ad_spend', 'click_through_rate', 'holiday_season'\n",
    "]\n",
    "dummy_cols = [col for col in df.columns if col.startswith('animal_type_') or col.startswith('category_')]\n",
    "all_corr_cols = numeric_cols + dummy_cols"
   ]
  },
  {
   "cell_type": "code",
   "execution_count": 16,
   "id": "f33c5cfd",
   "metadata": {},
   "outputs": [],
   "source": [
    "# Define features (X) and target (y)\n",
    "feature_cols = all_corr_cols\n",
    "X = df[feature_cols]\n",
    "y = df['sales']\n"
   ]
  },
  {
   "cell_type": "code",
   "execution_count": 17,
   "id": "1ddb9245",
   "metadata": {},
   "outputs": [
    {
     "name": "stdout",
     "output_type": "stream",
     "text": [
      "✅ All feature columns are present.\n",
      "\n"
     ]
    }
   ],
   "source": [
    "# Sanity check: make sure none of the feature columns are missing\n",
    "missing_cols = [col for col in feature_cols if col not in X.columns]\n",
    "if missing_cols:\n",
    "    raise ValueError(f\"Missing columns in X: {missing_cols}\")\n",
    "print(\"✅ All feature columns are present.\\n\")"
   ]
  },
  {
   "cell_type": "code",
   "execution_count": 29,
   "id": "ca70893e",
   "metadata": {},
   "outputs": [
    {
     "name": "stdout",
     "output_type": "stream",
     "text": [
      "Training set size:  80 rows\n",
      "Testing set size:   20 rows\n",
      "\n"
     ]
    }
   ],
   "source": [
    "# Split into train (80%) and test (20%)\n",
    "variances = df.var(numeric_only=True).sort_values(ascending=False)\n",
    "top_features = variances.head(7).index.tolist()\n",
    "\n",
    "# Use these columns as X\n",
    "X = df[top_features]\n",
    "\n",
    "# Now split as usual\n",
    "X_train, X_test, y_train, y_test = train_test_split(\n",
    "    X, y, test_size=0.20, random_state=42\n",
    ")\n",
    "print(f\"Training set size:  {X_train.shape[0]} rows\")\n",
    "print(f\"Testing set size:   {X_test.shape[0]} rows\\n\")"
   ]
  },
  {
   "cell_type": "code",
   "execution_count": null,
   "id": "a2cf9f61",
   "metadata": {},
   "outputs": [
    {
     "name": "stdout",
     "output_type": "stream",
     "text": [
      "Starting GridSearchCV for RandomForestRegressor...\n",
      "Fitting 3 folds for each of 6 candidates, totalling 18 fits\n",
      "✔︎ Best hyperparameters: {'max_depth': 10, 'n_estimators': 100} \n",
      "\n"
     ]
    }
   ],
   "source": [
    "#  MODEL SELECTION & HYPERPARAMETER TUNING (RANDOM FOREST)\n",
    "rf = RandomForestRegressor(random_state=42)\n",
    "\n",
    "param_grid = {\n",
    "    'n_estimators': [50, 100],\n",
    "    'max_depth': [5, 10, None]\n",
    "}\n",
    "\n",
    "grid_search = GridSearchCV(\n",
    "    estimator=rf,\n",
    "    param_grid=param_grid,\n",
    "    cv=3,\n",
    "    scoring='neg_mean_squared_error',\n",
    "    n_jobs=-1,\n",
    "    verbose=1\n",
    ")\n",
    "\n",
    "print(\"Starting GridSearchCV for RandomForestRegressor...\")\n",
    "grid_search.fit(X_train, y_train)\n",
    "\n",
    "best_forest = grid_search.best_estimator_\n",
    "print(\" Best hyperparameters:\", grid_search.best_params_, \"\\n\")"
   ]
  },
  {
   "cell_type": "code",
   "execution_count": 31,
   "id": "a77d1855",
   "metadata": {},
   "outputs": [
    {
     "name": "stdout",
     "output_type": "stream",
     "text": [
      "MSE on test set:  1.77\n",
      "R² on test set:   1.00\n",
      "\n"
     ]
    }
   ],
   "source": [
    "#  EVALUATE ON TEST SET\n",
    "\n",
    "y_pred = best_forest.predict(X_test)\n",
    "\n",
    "mse_test = mean_squared_error(y_test, y_pred)\n",
    "r2_test = r2_score(y_test, y_pred)\n",
    "\n",
    "print(f\"MSE on test set:  {mse_test:.2f}\")\n",
    "print(f\"R² on test set:   {r2_test:.2f}\\n\")"
   ]
  },
  {
   "cell_type": "code",
   "execution_count": 87,
   "id": "28d05e55",
   "metadata": {},
   "outputs": [],
   "source": [
    "\n",
    "importance_df = pd.DataFrame({\n",
    "    'feature': X.columns,\n",
    "    'importance': importances\n",
    "}).sort_values(by='importance', ascending=False)\n"
   ]
  },
  {
   "cell_type": "code",
   "execution_count": 32,
   "id": "33877ca9",
   "metadata": {},
   "outputs": [
    {
     "data": {
      "image/png": "[encoded data removed]",
      "text/plain": [
       "<Figure size 600x600 with 1 Axes>"
      ]
     },
     "metadata": {},
     "output_type": "display_data"
    },
    {
     "name": "stdout",
     "output_type": "stream",
     "text": [
      "Saved plot → actual_vs_predicted_rf.png\n"
     ]
    }
   ],
   "source": [
    "import matplotlib.pyplot as plt\n",
    "import seaborn as sns\n",
    "\n",
    "plt.figure(figsize=(6, 6))\n",
    "\n",
    "\n",
    "sns.scatterplot(\n",
    "    x=y_test,\n",
    "    y=y_pred,\n",
    "    alpha=0.6,\n",
    "    edgecolor=None\n",
    ")\n",
    "\n",
    "min_val = y_test.min()\n",
    "max_val = y_test.max()\n",
    "plt.plot(\n",
    "    [min_val, max_val],\n",
    "    [min_val, max_val],\n",
    "    'k--',     \n",
    "    linewidth=1\n",
    ")\n",
    "\n",
    "plt.title(\"Actual vs. Predicted Sales\")\n",
    "plt.xlabel(\"True Sales\")\n",
    "plt.ylabel(\"Predicted Sales\")\n",
    "\n",
    "plt.tight_layout()\n",
    "plt.savefig(\"actual_vs_predicted_rf.png\")\n",
    "plt.show()\n",
    "plt.close()\n",
    "\n",
    "print(\"Saved plot → actual_vs_predicted_rf.png\")\n"
   ]
  },
  {
   "cell_type": "code",
   "execution_count": null,
   "id": "a463631d",
   "metadata": {},
   "outputs": [
    {
     "name": "stdout",
     "output_type": "stream",
     "text": [
      "✔︎ Saved trained model → rf_sales_model.joblib\n",
      "\n"
     ]
    }
   ],
   "source": [
    "# Serialize the trained model to disk\n",
    "model_filename = \"rf_sales_model.joblib\"\n",
    "joblib.dump(best_forest, model_filename)\n",
    "print(f\" Saved trained model → {model_filename}\\n\")\n"
   ]
  },
  {
   "cell_type": "code",
   "execution_count": null,
   "id": "635710aa",
   "metadata": {},
   "outputs": [
    {
     "name": "stdout",
     "output_type": "stream",
     "text": [
      " Top‐selling product (true sales):\n",
      "product_name    Dog Treats\n",
      "animal_type            dog\n",
      "category            Treats\n",
      "sales                  160\n",
      "Name: 12, dtype: object \n",
      "\n",
      "  Lowest‐selling product (true sales):\n",
      "product_name    Cat Collar\n",
      "animal_type            cat\n",
      "category            Collar\n",
      "sales                   70\n",
      "Name: 9, dtype: object \n",
      "\n"
     ]
    }
   ],
   "source": [
    "# Print top‐selling and lowest‐selling products (by true sales)\n",
    "top_idx = df['sales'].idxmax()\n",
    "worst_idx = df['sales'].idxmin()\n",
    "\n",
    "print(\" Top-selling product (true sales):\")\n",
    "print(df.loc[top_idx, ['product_name', 'animal_type', 'category', 'sales']], \"\\n\")\n",
    "\n",
    "print(\"  Lowest-selling product (true sales):\")\n",
    "print(df.loc[worst_idx, ['product_name', 'animal_type', 'category', 'sales']], \"\\n\")"
   ]
  }
 ],
 "metadata": {
  "kernelspec": {
   "display_name": "base",
   "language": "python",
   "name": "python3"
  },
  "language_info": {
   "codemirror_mode": {
    "name": "ipython",
    "version": 3
   },
   "file_extension": ".py",
   "mimetype": "text/x-python",
   "name": "python",
   "nbconvert_exporter": "python",
   "pygments_lexer": "ipython3",
   "version": "3.12.4"
  }
 },
 "nbformat": 4,
 "nbformat_minor": 5
}
